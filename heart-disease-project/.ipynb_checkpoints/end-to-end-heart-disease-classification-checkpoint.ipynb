{
 "cells": [
  {
   "cell_type": "markdown",
   "id": "e6c68860-700f-4314-97c7-536b1dbe8ebd",
   "metadata": {},
   "source": [
    "# Predicting heart disease using machine learning\n",
    "\n",
    "This notebook uses Python-based machine learning and data science liberies to build a machine learning model capable predicting whether or not someone has heart disease based on their medical report attributes. "
   ]
  },
  {
   "cell_type": "code",
   "execution_count": 1,
   "id": "9e153abd-c1e1-4d0a-a7ea-feb8a2c0be06",
   "metadata": {},
   "outputs": [
    {
     "ename": "SyntaxError",
     "evalue": "':' expected after dictionary key (1337991662.py, line 3)",
     "output_type": "error",
     "traceback": [
      "\u001b[1;36m  Cell \u001b[1;32mIn[1], line 3\u001b[1;36m\u001b[0m\n\u001b[1;33m    2, 'Data',\u001b[0m\n\u001b[1;37m    ^\u001b[0m\n\u001b[1;31mSyntaxError\u001b[0m\u001b[1;31m:\u001b[0m ':' expected after dictionary key\n"
     ]
    }
   ],
   "source": [
    "approach = {\n",
    "    1: 'Problem definition',\n",
    "    2: 'Data',\n",
    "    3: 'Evaluation',\n",
    "    4: 'Features',\n",
    "    5: 'Modelling',\n",
    "    6: 'Experimentation'\n",
    "}"
   ]
  },
  {
   "cell_type": "code",
   "execution_count": null,
   "id": "13c4ba00-afeb-43e5-865b-a7cbfe25aa22",
   "metadata": {},
   "outputs": [],
   "source": []
  }
 ],
 "metadata": {
  "kernelspec": {
   "display_name": "Python 3 (ipykernel)",
   "language": "python",
   "name": "python3"
  },
  "language_info": {
   "codemirror_mode": {
    "name": "ipython",
    "version": 3
   },
   "file_extension": ".py",
   "mimetype": "text/x-python",
   "name": "python",
   "nbconvert_exporter": "python",
   "pygments_lexer": "ipython3",
   "version": "3.12.4"
  }
 },
 "nbformat": 4,
 "nbformat_minor": 5
}
