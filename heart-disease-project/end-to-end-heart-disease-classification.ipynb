{
 "cells": [
  {
   "cell_type": "markdown",
   "id": "e6c68860-700f-4314-97c7-536b1dbe8ebd",
   "metadata": {},
   "source": [
    "# Predicting heart disease using machine learning\n",
    "\n",
    "This notebook uses Python-based machine learning and data science libraries to build a machine learning model capable of predicting whether or not someone has heart disease based on their medical report attributes."
   ]
  },
  {
   "cell_type": "code",
   "execution_count": 2,
   "id": "9e153abd-c1e1-4d0a-a7ea-feb8a2c0be06",
   "metadata": {},
   "outputs": [],
   "source": [
    "approach = {\n",
    "    1: 'Problem definition',\n",
    "    2: 'Data',\n",
    "    3: 'Evaluation',\n",
    "    4: 'Features',\n",
    "    5: 'Modelling',\n",
    "    6: 'Experimentation'\n",
    "}"
   ]
  },
  {
   "cell_type": "markdown",
   "id": "ce4b5788-a340-4b90-b19a-974ef7abdc93",
   "metadata": {},
   "source": [
    "## 1. Problem definition\n",
    "In a statement, \n",
    "> Given the clinical report parameters of a patient, can we predict whether or not they have heart disease?\n",
    "\n",
    "## 2. Data \n",
    "The original data came from the cleveland data from the UCI machine learning Repository. https://archive.ics.uci.edu/dataset/45/heart+disease\n",
    "\n",
    "There is also a version of it available on Kaggle. https://www.kaggle.com/datasets/redwankarimsony/heart-disease-data\n",
    "\n",
    "## 3. Evaluation\n",
    "\n",
    "> Analyse ff we can reach 95% at predicting whether or not a patient has heart disease duringthe proof of concept, then pursue the project.\n",
    "\n",
    "## 4.Features\n",
    "\n",
    "This is where you'll get different information about each of the feature in your data\n",
    "\n",
    "**Create data dictionary**\n",
    "\n",
    "1. age - age in years\n",
    "\n",
    "2. sex-(1 = male; 0 = female)\n",
    "\n",
    "3. cp - chest pain type\n",
    "   * 0: Typical angina: chest pain related decrease supply to the heart\n",
    "   * 1: Atypical angina: chest pain not related to\n",
    "   * 2: Non-anginal pain: typically esophageal spasms (non heart related)\n",
    "   * 3: Asymtomatic: chest pain not showing signs of disease\n",
    "\n",
    "4. trestbps - resting blood pressure (in mm Hg on admission to the hospital) anything above 130-140 is typically cause for concern\n",
    "\n",
    "5. chol - serum cholestoral in mg/dl\n",
    "   * serum = LDL + HDL + .2*triglycerides\n",
    "   * above 200 is cause for concern\n",
    "\n",
    "6. fbs - (fasting blood sugar &gt; 120 mg/dl) (1 = true; 0 = false)\n",
    "   * fbs above 126 mg/dL signals diabetes\n",
    "\n",
    "7. restecg - resting electrocardiographic results\n",
    "   * 0: Nothing to note\n",
    "   * 1: ST-T Wave abnormality\n",
    "       * can range from mild symtoms to severe problems\n",
    "       * signals non-normal heart beat\n",
    "   * 2: Possible or definite left ventricular hypertrophy\n",
    "       * Enlarged heart's maain pumping chamber     \n",
    "\n",
    "8. thalach - maximum heart rate achieved\n",
    "\n",
    "9. exang - exercise induced angina (1 = yes; 0 = no)\n",
    "\n",
    "10. old peakST depression induced by exercise relative to rest looks at stress of heart during exercise unhealthy heart will stress more\n",
    "  \n",
    "11. slope - the slope of the peak exercise ST segment\n",
    "   * 0: Upsloping: better heart rate with ST segment\n",
    "   * 1: Flatsloping: minimal change (typical healthy heart)\n",
    "   * 2: Downsloping: signs of unhealth heart\n",
    "     \n",
    "12. ca - number of major vessels (0-3) colored by flourosopy\n",
    "   * coloured vessel means the doctor can see the blood passing through\n",
    "   * the more blood movement the better (no clots)\n",
    "     \n",
    "13. thal - thalium stress result\n",
    "    * 1, 3  = normal\n",
    "    * 6 = fixed defect\n",
    "    * 7 = reversable defect\n",
    "\n",
    "* target - have heart disease or not (prediction)\n",
    "    * 0 = no\n",
    "    * 1 = yes"
   ]
  },
  {
   "cell_type": "markdown",
   "id": "67f229b1-c5fa-442a-966b-11868fa5ec19",
   "metadata": {},
   "source": [
    "## Preparing the tools\n",
    "\n",
    "We'er going to use pandas, Matplotlib and Numpy for data analysis and manupulation.\n",
    "\n",
    "Import all the tools we need"
   ]
  },
  {
   "cell_type": "code",
   "execution_count": 7,
   "id": "50c2c54b-6667-4b37-8469-870ade870596",
   "metadata": {},
   "outputs": [],
   "source": [
    "# Regular EDA (exploratory data analysis) and plotting libraries\n",
    "import numpy as np\n",
    "import pandas as pd\n",
    "import matplotlib.pyplot as plt\n",
    "import seaborn as sns\n",
    "\n",
    "# for plot to appear inside the notebook\n",
    "%matplotlib inline \n",
    "\n",
    "# Models from Scikit-learn\n",
    "from sklearn.linear_model import LogisticRegression\n",
    "from sklearn.neighbors import KNeighborsClassifier\n",
    "from sklearn.ensemble import RandomForestClassifier\n",
    "\n",
    "# Model_Evaluation\n",
    "from sklearn.model_selection import train_test_split, cross_val_score\n",
    "from sklearn.model_selection import RandomizedSearchCV, GridSearchCV\n",
    "from sklearn.metrics import confusion_matrix, classification_report\n",
    "from sklearn.metrics import precision_score, recall_score, f1_score\n",
    "from sklearn.metrics import RocCurveDisplay"
   ]
  },
  {
   "cell_type": "code",
   "execution_count": null,
   "id": "26356e69-474a-4628-bd23-9e63ee9839e2",
   "metadata": {},
   "outputs": [],
   "source": []
  }
 ],
 "metadata": {
  "kernelspec": {
   "display_name": "Python 3 (ipykernel)",
   "language": "python",
   "name": "python3"
  },
  "language_info": {
   "codemirror_mode": {
    "name": "ipython",
    "version": 3
   },
   "file_extension": ".py",
   "mimetype": "text/x-python",
   "name": "python",
   "nbconvert_exporter": "python",
   "pygments_lexer": "ipython3",
   "version": "3.12.4"
  }
 },
 "nbformat": 4,
 "nbformat_minor": 5
}
